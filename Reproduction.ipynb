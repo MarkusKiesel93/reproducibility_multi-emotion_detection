{
 "cells": [
  {
   "cell_type": "code",
   "execution_count": 2,
   "metadata": {},
   "outputs": [],
   "source": [
    "import numpy as np \n",
    "import pandas as pd \n",
    "from pathlib import Path\n",
    "\n",
    "from sklearn.svm import LinearSVC"
   ]
  },
  {
   "source": [
    "# Feature creation\n",
    "\n",
    "Both algorithms use standard bag-of-words features with stop word removal and optional tf–idf weighting.\n",
    "\n",
    "## BOW and Tf-idf\n",
    "\n",
    "described at: https://medium.com/betacom/bow-tf-idf-in-python-for-unsupervised-learning-task-88f3b63ccd6d\n",
    "\n",
    "## Stop word removal\n",
    "\n"
   ],
   "cell_type": "markdown",
   "metadata": {}
  },
  {
   "source": [
    "# Algorithms\n",
    "\n",
    "\n",
    "\n",
    "Reduction to Binary classifyers:\n",
    "\n",
    "implementation of liblinear in sklearn is used which can be found in: https://scikit-learn.org/stable/modules/generated/sklearn.svm.LinearSVC.html#sklearn.svm.LinearSVC\n",
    "description at: https://scikit-learn.org/stable/modules/svm.html (chapter 1.4.1.1.)\n",
    "\n",
    "use with:\n",
    "LinearSVC(random_state=0, tol=1e-5)"
   ],
   "cell_type": "markdown",
   "metadata": {}
  },
  {
   "source": [
    "# Load Data\n",
    "\n",
    "todo: cite and description of data"
   ],
   "cell_type": "markdown",
   "metadata": {}
  },
  {
   "cell_type": "code",
   "execution_count": 3,
   "metadata": {},
   "outputs": [
    {
     "output_type": "stream",
     "name": "stdout",
     "text": [
      "data/test.txt\ndata/train.txt\n"
     ]
    }
   ],
   "source": [
    "DATA_FILES = Path('data')\n",
    "TEST_DATA = DATA_FILES / 'test.txt'\n",
    "TRAIN_DATA = DATA_FILES / 'train.txt'\n",
    "print(TEST_DATA)\n",
    "print(TRAIN_DATA)"
   ]
  },
  {
   "cell_type": "code",
   "execution_count": 7,
   "metadata": {
    "tags": []
   },
   "outputs": [],
   "source": [
    "def load_data(file_path):\n",
    "    X = []\n",
    "    y = []\n",
    "    with open(file_path, 'r') as file:\n",
    "        lines = file.readlines()\n",
    "    for line in lines:\n",
    "        sentence = ' '.join(line.split()[0:-1])\n",
    "        X.append(sentence)\n",
    "        labels = line.split()[-1].split('_')\n",
    "        y.append(labels)\n",
    "    return X, y\n",
    "        \n",
    "X_train, y_train = load_data(TRAIN_DATA)\n",
    "X_test, y_test = load_data(TEST_DATA)"
   ]
  },
  {
   "cell_type": "code",
   "execution_count": null,
   "metadata": {},
   "outputs": [],
   "source": []
  }
 ],
 "metadata": {
  "kernelspec": {
   "name": "python3",
   "display_name": "Python 3.7.3 64-bit ('reproducibility_multi-emotion_detection': pipenv)",
   "metadata": {
    "interpreter": {
     "hash": "9ab8d6d6dbc18d2d22ddc42bf3bf05c31e8a79dddbf083988129b497c344b24a"
    }
   }
  },
  "language_info": {
   "codemirror_mode": {
    "name": "ipython",
    "version": 3
   },
   "file_extension": ".py",
   "mimetype": "text/x-python",
   "name": "python",
   "nbconvert_exporter": "python",
   "pygments_lexer": "ipython3",
   "version": "3.7.3-final"
  }
 },
 "nbformat": 4,
 "nbformat_minor": 4
}