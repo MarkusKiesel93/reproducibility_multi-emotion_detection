{
 "cells": [
  {
   "cell_type": "code",
   "execution_count": 1,
   "metadata": {},
   "outputs": [],
   "source": [
    "import numpy as np \n",
    "import pandas as pd \n",
    "from pathlib import Path\n",
    "\n",
    "from sklearn.svm import LinearSVC"
   ]
  },
  {
   "source": [
    "# Data\n",
    "\n",
    "source: https://github.com/NLeSC/spudisc-emotion-classification\n",
    "\n",
    "Preprocessed versions of the data, split for training and testing a classifier, can be found in the files train.txt and test.txt. These contain one sentence per line with labels at the end of each line. A single space separates the labels from the text. Multiple labels are separated by underscores. Where a sentence received no label, the string None appears. (No label means no emotions assigned by the annotator; all sentences have been annotated.)\n",
    "\n",
    "ToDo: \n",
    "- cite and description of data\n",
    "- how to load data correctly ? (not specifyed in paper or on github)"
   ],
   "cell_type": "markdown",
   "metadata": {}
  },
  {
   "cell_type": "code",
   "execution_count": 2,
   "metadata": {
    "tags": []
   },
   "outputs": [],
   "source": [
    "DATA_FILES = Path('data')\n",
    "TEST_DATA = DATA_FILES / 'test.txt'\n",
    "TRAIN_DATA = DATA_FILES / 'train.txt'\n",
    "\n",
    "def load_data(file_path):\n",
    "    X = []\n",
    "    y = []\n",
    "    with open(file_path, 'r') as file:\n",
    "        lines = file.readlines()\n",
    "    for line in lines:\n",
    "        sentence = ' '.join(line.split()[0:-1])\n",
    "        X.append(sentence)\n",
    "        labels = line.split()[-1].split('_')\n",
    "        y.append(labels)\n",
    "    return X, y\n",
    "        \n",
    "X_train, y_train = load_data(TRAIN_DATA)\n",
    "X_test, y_test = load_data(TEST_DATA)"
   ]
  },
  {
   "cell_type": "code",
   "execution_count": 3,
   "metadata": {},
   "outputs": [
    {
     "output_type": "stream",
     "name": "stdout",
     "text": [
      "503\n503\n126\n126\n"
     ]
    }
   ],
   "source": [
    "print(len(X_train))\n",
    "print(len(y_train))\n",
    "print(len(X_test))\n",
    "print(len(y_test))"
   ]
  },
  {
   "source": [
    "# Features\n",
    "\n",
    "Both algorithms use standard bag-of-words features with stop word removal and optional tf–idf weighting.\n",
    "\n",
    "## BOW and Tf-idf\n",
    "\n",
    "described at: https://medium.com/betacom/bow-tf-idf-in-python-for-unsupervised-learning-task-88f3b63ccd6d\n",
    "\n",
    "scikit BOW: https://scikit-learn.org/stable/modules/generated/sklearn.feature_extraction.text.CountVectorizer.html#sklearn.feature_extraction.text.CountVectorizer\n",
    "\n",
    "scit tfid: https://scikit-learn.org/stable/modules/generated/sklearn.feature_extraction.text.TfidfTransformer.html#sklearn.feature_extraction.text.TfidfTransformer\n",
    "\n",
    "## Stop word removal\n",
    "\n",
    "described at: https://aisb.org.uk/wp-content/uploads/2019/12/Final-vol-02.pdf#page=59\n",
    "\n",
    "ToDo: \n",
    "- the data is in a \"raw\" format and needs to be converted into BOW features\n",
    "\n"
   ],
   "cell_type": "markdown",
   "metadata": {}
  },
  {
   "cell_type": "code",
   "execution_count": 4,
   "metadata": {},
   "outputs": [],
   "source": [
    "from sklearn.feature_extraction.text import CountVectorizer\n",
    "from sklearn.feature_extraction.text import TfidfTransformer\n",
    "from sklearn.pipeline import Pipeline"
   ]
  },
  {
   "source": [
    "# Algorithms\n",
    "\n",
    "## One-vs-Rest\n",
    "\n",
    "Reduction to Binary classifyers\n",
    "\n",
    "implementation of liblinear in sklearn is used which can be found in: https://scikit-learn.org/stable/modules/generated/\n",
    "sklearn.svm.LinearSVC.html#sklearn.svm.LinearSVC\n",
    "\n",
    "wrapper: https://scikit-learn.org/stable/modules/generated/sklearn.multiclass.OneVsRestClassifier.html#sklearn.multiclass.OneVsRestClassifier\n",
    "\n",
    "description at: https://scikit-learn.org/stable/modules/svm.html (chapter 1.4.1.1.)\n",
    "\n",
    "## RAKEL\n",
    "\n",
    "implementation found in: http://scikit.ml/api/skmultilearn.ensemble.rakeld.html\n",
    "\n",
    "## ToDo:\n",
    "- use tf–idf weighting with logarithmic tf\n",
    "- automatic oversampling\n",
    "- use fixed regularization parameter C = 1 for all SVMs\n",
    "\n",
    "Difficultys:\n",
    "- not clear if L1 or L2 penalty (use L2 as it is default)"
   ],
   "cell_type": "markdown",
   "metadata": {}
  },
  {
   "cell_type": "code",
   "execution_count": 1,
   "metadata": {},
   "outputs": [],
   "source": [
    "from sklearn.svm import LinearSVC\n",
    "from skmultilearn.ensemble import RakelD\n",
    "from sklearn.preprocessing import MultiLabelBinarizer\n",
    "from bow_1 import BOW\n",
    "from sklearn.model_selection import train_test_split\n",
    "import sklearn.metrics as metrics"
   ]
  },
  {
   "cell_type": "code",
   "execution_count": 2,
   "metadata": {},
   "outputs": [],
   "source": [
    "# load BOW features\n",
    "bow_default = BOW()\n",
    "X_train, X_test, y_train, y_test = bow_default.create()"
   ]
  },
  {
   "cell_type": "code",
   "execution_count": 3,
   "metadata": {},
   "outputs": [],
   "source": [
    "# create RAKEL classifier\n",
    "classifier = RakelD(\n",
    "    base_classifier=LinearSVC(C=1),\n",
    "    base_classifier_require_dense=[True, True],\n",
    "    labelset_size=3\n",
    ")"
   ]
  },
  {
   "cell_type": "code",
   "execution_count": 4,
   "metadata": {},
   "outputs": [],
   "source": [
    "# test classifier\n",
    "classifier.fit(X_train, y_train)\n",
    "prediction = classifier.predict(X_test)"
   ]
  },
  {
   "cell_type": "code",
   "execution_count": 5,
   "metadata": {},
   "outputs": [
    {
     "output_type": "execute_result",
     "data": {
      "text/plain": [
       "0.1746031746031746"
      ]
     },
     "metadata": {},
     "execution_count": 5
    }
   ],
   "source": [
    "# look at some scores (from skmultilearn example)\n",
    "metrics.hamming_loss(y_test, prediction)"
   ]
  },
  {
   "cell_type": "code",
   "execution_count": 6,
   "metadata": {},
   "outputs": [
    {
     "output_type": "execute_result",
     "data": {
      "text/plain": [
       "0.2857142857142857"
      ]
     },
     "metadata": {},
     "execution_count": 6
    }
   ],
   "source": [
    "metrics.accuracy_score(y_test, prediction)"
   ]
  }
 ],
 "metadata": {
  "kernelspec": {
   "name": "python3",
   "display_name": "Python 3.7.3 64-bit ('reproducibility_multi-emotion_detection': pipenv)",
   "metadata": {
    "interpreter": {
     "hash": "046bb29bab8f00f7ae15da26996426ed7578b9a90247bb3024ba28a4fd4b5012"
    }
   }
  },
  "language_info": {
   "codemirror_mode": {
    "name": "ipython",
    "version": 3
   },
   "file_extension": ".py",
   "mimetype": "text/x-python",
   "name": "python",
   "nbconvert_exporter": "python",
   "pygments_lexer": "ipython3",
   "version": "3.7.3-final"
  }
 },
 "nbformat": 4,
 "nbformat_minor": 4
}