{
 "cells": [
  {
   "cell_type": "code",
   "execution_count": 3,
   "metadata": {},
   "outputs": [],
   "source": [
    "import numpy as np \n",
    "import pandas as pd \n",
    "from pathlib import Path\n",
    "\n",
    "from sklearn.svm import LinearSVC"
   ]
  },
  {
   "source": [
    "Algorithms:\n",
    "\n",
    "Both use standard bag-of-words features with stop word removal and optional tf–idf weighting, and reduce the multi-label problem to either binary or multiclass learning, for which we use linear support vector machines.\n",
    "\n",
    "Reduction to Binary classifyers:\n",
    "\n",
    "implementation of liblinear in sklearn is used which can be found in: https://scikit-learn.org/stable/modules/generated/sklearn.svm.LinearSVC.html#sklearn.svm.LinearSVC\n",
    "description at: https://scikit-learn.org/stable/modules/svm.html (chapter 1.4.1.1.)\n",
    "\n",
    "use with:\n",
    "LinearSVC(random_state=0, tol=1e-5)"
   ],
   "cell_type": "markdown",
   "metadata": {}
  },
  {
   "source": [
    "# Load Data\n",
    "\n",
    "todo: cite and description of data"
   ],
   "cell_type": "markdown",
   "metadata": {}
  },
  {
   "cell_type": "code",
   "execution_count": 4,
   "metadata": {},
   "outputs": [
    {
     "output_type": "stream",
     "name": "stdout",
     "text": [
      "data/test.txt\ndata/train.txt\n"
     ]
    }
   ],
   "source": [
    "DATA_FILES = Path('data')\n",
    "TEST_DATA = DATA_FILES / 'test.txt'\n",
    "TRAIN_DATA = DATA_FILES / 'train.txt'\n",
    "print(TEST_DATA)\n",
    "print(TRAIN_DATA)"
   ]
  },
  {
   "cell_type": "code",
   "execution_count": 20,
   "metadata": {
    "tags": []
   },
   "outputs": [],
   "source": [
    "def load_data(file_path):\n",
    "    X = []\n",
    "    y = []\n",
    "    with open(file_path, 'r') as file:\n",
    "        lines = file.readlines()\n",
    "    for line in lines:\n",
    "        sentence = ' '.join(line.split()[0:-1])\n",
    "        X.append(sentence)\n",
    "        labels = line.split()[-1].split('_')\n",
    "        y.append(labels)\n",
    "    return X, y\n",
    "        \n",
    "X, y = load_data(TEST_DATA)"
   ]
  },
  {
   "cell_type": "code",
   "execution_count": 21,
   "metadata": {},
   "outputs": [
    {
     "output_type": "execute_result",
     "data": {
      "text/plain": [
       "[': An amazing film',\n",
       " \"It doesn't explain why each character is as quirky as can be, and it doesn't build much background because it is not needed to make the film work.\",\n",
       " 'The story is original on all counts, and thrilling on all levels.',\n",
       " 'Title: Magnificent portrait of organized crime',\n",
       " 'This film can be enjoyed on so many levels and I really enjoyed the third act.',\n",
       " \"A lack of star names helps the movie flow as the pace builds to a finale that won't be forgotten by this viewer in a hurry!\",\n",
       " 'The most important aspect of Se7en, however, is that it keeps the audience numerous steps behind its story, as oppose to other thrillers, which become predictable and bland by the end.',\n",
       " 'The film is pretty shocking in the way every death occurs almost instantaneously, and as it spans ten years so many different things happen and every minute of it is great entertainment.',\n",
       " 'Both are I think going to be a couple of the best movies we will see this decade (2000-2010)',\n",
       " 'Hell, in those franchises the special effects have virtually replaced story and characters.',\n",
       " 'Se7en seemingly starts out as a typical cat and mouse detective story, however, it quickly develops into of a sort of modern-myth, with good and evil taking centre stage.',\n",
       " 'All of it leads to an ending of each story that is both very enjoyable, and very emotional at the same time.',\n",
       " 'Go!',\n",
       " 'It really made me cringe in some parts and I could really \"feel\" how terrified the characters probably were cause of the great acting.',\n",
       " 'That coupled with the outbreak of World War II keeps them apart for a couple of years, and the story really gets underway.',\n",
       " 'It starts out resoundingly bleak.',\n",
       " '\"Earth\" is a film that every student should see before they become jaded.',\n",
       " 'I heard that this film only cost three million dollars to make...it just goes to show that tens of millions need not be spent to get a treasure.',\n",
       " \"To me, that's an important difference.\",\n",
       " 'You really are on a journey to where you would probably never-ever end up by yourself.',\n",
       " 'Amnesia is a tricky thing to sell to an audience for credibility but this is a rare exception.',\n",
       " 'Her family is spending her 17th Summer in the small town by the sea, and first comes across Noah by pure coincidence.',\n",
       " \"One reviewer states it's a good movie based on a completely false occurrence, that being amnesia in general.\",\n",
       " 'Furlong and Norton are both acting well together in their scene\\'s are highly believable as two brothers.\\'Also surprising good was the musical score by Anne Dudley who had already won an Oscar for \"The Full Monty\", the year before.\\'This was a movie that surprisingly impressed me.',\n",
       " 'The documentary demonstrates the delicate balance between life and death, most heartbreakingly exhibited in the desperate ballet of predator-prey interactions.',\n",
       " 'This was an enormous achievement for Aussie newcomers \\x96 James Wan, and Leigh Wannell.',\n",
       " 'Where many movies drift into ridiculousness trying to establish the villain as an almost superhuman evil being, \"Saw\" does never get anywhere near that trap.',\n",
       " 'This was playing at our theater in Amsterdam and the film we wanted to see was sold-out so we went to this, not knowing anything about it other than it was a documentary about the planet.',\n",
       " 'By establishing an emotional link between the audience and a select few individual animals, anthropomorphising them to an extent, we are suddenly able to appreciate the \"human side\" of each species, and their hopeless plight for survival becomes less a statistic and more an unacceptable tragedy.\\'\\'Earth\\' is basically comprised of a selection of dramatic episodes, whether it be the struggles of a female polar bear to lead her young cubs to the Arctic ice, or the tramp of an elephant herd towards the life-saving seasonal floodwaters of the Okavango Delta.',\n",
       " 'It is art captured on film.',\n",
       " 'The focus is entirely upon Bourne and how he is to deal with having no memory of his past, being hunted without knowing why.',\n",
       " 'I have a friend who was a Nazi and a racist.',\n",
       " 'By the time I finished watching the second trailer for the THIRD time, I was floored...and hooked.',\n",
       " 'The movie shows different climates and the animals associated with them by starting at the North Pole and going down south as the movie progresses.',\n",
       " 'Andrew Kevin Walker must have some incredible demons living inside him.',\n",
       " \"There are no huge plots twists, but I think you'll have more fun with this film if you don't know exactly where it's going.\",\n",
       " 'They see no future between their daughter and this \"boy\", and take her away from him the first chance they get.',\n",
       " 'The theatre was basically empty; just one other patron sat in the row ahead of me, and it was as though I had, not only the big screen to myself, but, indeed, the entire planet Earth.',\n",
       " 'The implausibilities are kept to a minimum and the realism to as high a level as possible while still being spectacular enough to meet the expectations of the genre.',\n",
       " \"I just can't wait for the DVD to come out as I really want to buy it.\",\n",
       " \"I can't even go on to say more about the acting, other than if Edward Norton does not win best actor this year, I will go absolutely nuts.\",\n",
       " \"His brooding acting style fits the character (Detective William Somerset) like a glove, and Gwyneth Paltrow gives her best performance EVER in the role of Brad Pitt's supportive wife/lover (Tracy Mills).\",\n",
       " \"It's a startling departure for him, a nuanced and heartfelt performance that's just as strong as his career-making turn in 40 Year Old Virgin.\",\n",
       " 'Instead, we are simply taken on a breathtaking journey into the majesty of the natural world, to experience the resilience, and also the fragility, of life on Earth.',\n",
       " \"Everyone knows, that in real life we can't have a relationship where everything works out perfectly, or where everyone agrees on everything.\",\n",
       " 'It is better than Seven for shock value.',\n",
       " \"At the heart of this film the couple represents the love story that is being told by James Garner's character.\",\n",
       " '4/5',\n",
       " 'He has no snappy one-liners, no cheesy chat-up lines.',\n",
       " 'Se7en even dramatically turns the tide at one point, just as the audience is finally getting comfortable and asserted into the gloomy atmosphere, thus creating as much as fear and uncertainty in the audience as it is with the characters involved.',\n",
       " 'Amazing movie which will have you brimming with joy.',\n",
       " 'Wan and Whannel really came up with a monster that has no peer.',\n",
       " \"I can't wait to see it again.\",\n",
       " 'He finds a surprising fellow traveler in, not his partner, but the elusive killer John Doe.',\n",
       " 'This film.',\n",
       " 'Nature simply seems too impressive to comprehend.\\'But, rather than the need to laugh, I left the cinema with a profound question:\"Howcome 200 years of industrial revolution can destroy natural systems that have been here for thousands and thousands of years?\"\\'With this question in mind, you\\'ll understand how I felt somewhat bitter and powerless after seeing EARTH.',\n",
       " 'I hear it made a \"killing\" at the box office, so TAKE NOTICE Hollywood!',\n",
       " 'This is untrue.',\n",
       " 'The movie is suspenseful and in parts very exciting.',\n",
       " \"Working on us to reinforce this world as Somerset sees it is the film's astounding mise-en-scene, a disturbing film-noir setting developed by director David Fincher and cinematographer Darius Khondji.\",\n",
       " '(And yes, taking a gun away from some idiot who is standing well within your striking radius without getting shot is definitely doable, though I had serious doubts until we tested it for ourselves with plastic dart guns in the dojo several years ago).\\'While not being perfect, \"The Bourne Identity\" is, simply put, several grades above the typical spy film.',\n",
       " \"It's an oddball comedy, and it's dark, and it's funny, and it's touching, and it will charm the pants off many in the audience.\",\n",
       " 'He did a great job, and helped put together a great cast for this film that would end up including Ryan Gosling, Rachel McAdams, James Garner, and Joan Allen.',\n",
       " ': I have not been so moved by a movie before!',\n",
       " 'Likewise, this film does not in any way belong to Toni Collette, Greg Kinnear, or Alan Arkin, all of whom are at the absolute top of their games and each of whom is allowed many moments within the ensemble structure to create a complex and compelling character.',\n",
       " \"Most go for the scare and have no plot, so when they aren't scary they suck!\",\n",
       " 'Excellent Film',\n",
       " 'As a writer, I really could appreciate the depth that he goes into with these ideas.',\n",
       " 'The movie gallops in speed as we are absorbed into the great plot and brilliant acting of all the cast involved.',\n",
       " 'Outstanding Performances / Great Storytelling',\n",
       " \"Overall, well worth seeing especially given the issues covered but don't expect Oscar material.\",\n",
       " 'Lee Emrey again as the police captain.',\n",
       " 'Thankfully, Bourne is much more of an intriguing character than 007 as his memory loss provides him (and us, of course) the perfect vehicle for clue-chasing and baddie-bashing.',\n",
       " 'Where the film falls down a bit is in trying to cover and integrate four themes - seasonal patterns, climate change, individual animal stories and hunter/ hunted interactions across multiple environments.',\n",
       " \"It's also true that Doug Liman and the producers created their own Jason Bourne mythology,since this movie is different in many ways to the book.\",\n",
       " \"This is easily one of the best all-out action films I've seen in recent years and even blatant discrepancies between film and book fail to sour your enjoyment, unless you're a serious Ludlum reader (which I am not but am thinking of rectifying this situation after watching this).'Baby-faced Matt Damon plays Jason Bourne, picked up by sailors drifting out to sea.\",\n",
       " 'Most of us remember our first love and that strong connection we had with them.',\n",
       " 'So this movie is not based on something made up, similar losses of memory do happen to people.',\n",
       " 'You immediately fall in love with the characters and you want to follow every step of their doomed love story.',\n",
       " 'It really is moving and emotional as well as scary.',\n",
       " \"I view any movie adaptation as an interpretation of the book rather than a translation from words to pictures anyway.'As for realism, most of the action scenes are believable, no super-gadgets are to be seen, no incredibly lovely models fall madly in bed with Bourne, and the hero shows definite signs of physical vulnerability despite a very high level of training and competance.\",\n",
       " \"It's almost like he's playing 2 different characters and he does that so extremely well.\",\n",
       " \": This was probably the best movie I've ever seen\",\n",
       " 'As I said earlier in my review, I did go into the movie not expecting much and that was because I thought it was a typical \"boy loves girl\" movie which are sometimes just too predictable.',\n",
       " 'He delves so deep into his character that he can convince the whole audience easily of his neo-nazi role.',\n",
       " 'Makes u think, makes you frustrated, makes you wanna scream and even makes you cry!',\n",
       " \"Though occasionally, perhaps to cater towards a younger audience, the footage cuts itself short at the crucial moment, I regularly shed at tear at the inevitability of death in nature, and the raw instinct that fuels these animals' final, hopeless efforts at survival.\",\n",
       " \"I only saw it 2 years after it first appeared and I'm a little disappointed that I didn't go watch it in the cinema.'I'm not too keen on movies like James Bond and other stuff in this genre, but this one is a lot better.\",\n",
       " \"You wouldn't expect anything else from Morgan Freeman because it's perfectly obvious that this guy was born to play the roles of the smart detective.\",\n",
       " 'It is very rare to see a movie that can charm the hell out of an audience without the use of special effects, worn-out clichés and bombastic action set pieces these days.',\n",
       " 'Does its best to make the point that no one is ever right aand no one is ever wrong.',\n",
       " \"I can't get why they didn't gave it to him...\",\n",
       " 'Another plus point about this movie was the great script, and you did not see too many \"cliches\" which is always a good sign in a Romance movie.',\n",
       " 'A classic track will probably be recharged for a new generation, as the bonds of family precariously balance a moment that could be as tacky as they come.\\'\"Sunshine\" is one of the best things to come out of American cinema this year, an original film that relies on a script that understands the differences between generations in the same family.',\n",
       " 'All of the acting in this film is first rate, and the ending wasnt quite as predictable as others might have you believe...it is quite shocking, as is much of the film.',\n",
       " 'At times it feels a little contrived, as if several years of trauma were compressed into two days.',\n",
       " 'As it progresses, we truly care about what will happen to the main characters, and we have in our own minds how we want things to turn out.',\n",
       " 'Let me clear up though, that the best thing about the film was that I ended up getting wrapped in the story on the screen, rather than sitting there thinking to myself what part of the story should be coming next.',\n",
       " 'Morgan Freeman is well-cast.',\n",
       " 'Suffice to say I have never seen so evil and complicated a plan in a movie before or since.',\n",
       " 'What progresses from there is a Summer romance that goes through all of the emotions that we all have experienced before.',\n",
       " 'Doe shares the vision and provides an unsettling echo to the rumblings and teachings of Somerset.',\n",
       " 'Set in various locales in Switzerland and France during the winter much of the visuals for \"The Bourne Identity\" are gray and damp.',\n",
       " 'A highly enjoyable ensemble road movie - funny stuff',\n",
       " 'Editing is tremendous and the commentary is spot on too, with just the right tone and some dramatic and telling facts about our world.',\n",
       " 'In the meanwhile he has to deal with amnesia, while being hunted without knowing why.',\n",
       " 'For 90 minutes, I was lowered into the beauty and perils of the isolated wilderness, amongst some of the most beautiful living creatures ever captured on film.',\n",
       " 'Normally you see the \"super hero\" using all kinds of weird gadgets, driving extremely fast sports cars and sleeping with ladies who look more like prostitutes than being normal women.\\'Jason Bourne however doesn\\'t have all this things, which makes this movie a lot more realistic.',\n",
       " 'This film was, in my opinion, exciting, thrilling, and an overall entertaining film to watch.',\n",
       " \"Awesome in its scope, and yet painfully intimate at times, 'Earth' is a heartfelt plea from the filmmakers to recognise the delicate balance of life on our planet, and how the intrusion of humans has placed countless glorious animal and plant species on the brink of extinction.'Though the film, directed by Alastair Fothergill and Mark Linfield, obviously argues for the conservation of the wilderness, it refrains from beating us over the head with propaganda, and the puzzle that is politics is ignored altogether; indeed, there is not a human in sight.\",\n",
       " '(It is left to his partner Mills to find this out the hard way).',\n",
       " \"Just like 'Se7en', the all-round Grittiness that director James Wan creates disgusts and enthralls.\",\n",
       " 'The quite original directing from Tony Kaye gives the movie a nice visual style and certain atmosphere.',\n",
       " 'The camera techniques are varied and spot on from close ups to aerial work.',\n",
       " \"Gothic, shocking, suspenseful, disturbing and clever, `Seven' marked a new beginning for director David Fincher's career.\",\n",
       " 'Sometimes both at the same time.',\n",
       " 'Dark and disturbing thriller that will stay with you for ever.',\n",
       " \"Unlike many other movies from the same genre, the movie is slow paced and takes it time to develop the characters without falling into some obvious clich�'s.\",\n",
       " 'But as the movie went on it became easier to warm to them.',\n",
       " 'Here is a family that has no special qualities or powers, a family that will make us rejoice that creativity is still alive in Hollywood, a film that will provide us with plenty of much needed sunshine in an otherwise pretty dull summer.',\n",
       " 'Dark and chilling movie that you will never forget also thanks to the ending which I will not spoil for you.',\n",
       " 'He is not well loved for his cynical, pessimistic outlook (such that his consuming motivation is to retire and get out of town).',\n",
       " \"Edward Norton's performance takes the viewer through this journey, and its not a pretty one.\",\n",
       " \"I was stunned walking out of the theater after seeing American History X, and I don't think I will ever have the benefit of seeing another movie as good as this one as long as I live.\",\n",
       " 'Along for the ride is Marie (Franka Potente), a German civilian who quickly gets caught up in the fracas with the aid of a funky red Mini Cooper.\\'Sharp, snazzy and well paced, \"The Bourne Identity\" is a blast-a-minute spy film in the great traditions of James Bond.',\n",
       " \"It is such an emotional movie that you can't keep from being caught up in what is happening.\"]"
      ]
     },
     "metadata": {},
     "execution_count": 21
    }
   ],
   "source": [
    "X"
   ]
  },
  {
   "cell_type": "code",
   "execution_count": null,
   "metadata": {},
   "outputs": [],
   "source": []
  }
 ],
 "metadata": {
  "kernelspec": {
   "name": "python3",
   "display_name": "Python 3.7.3 64-bit ('reproducibility_multi-emotion_detection': pipenv)",
   "metadata": {
    "interpreter": {
     "hash": "9ab8d6d6dbc18d2d22ddc42bf3bf05c31e8a79dddbf083988129b497c344b24a"
    }
   }
  },
  "language_info": {
   "codemirror_mode": {
    "name": "ipython",
    "version": 3
   },
   "file_extension": ".py",
   "mimetype": "text/x-python",
   "name": "python",
   "nbconvert_exporter": "python",
   "pygments_lexer": "ipython3",
   "version": "3.7.3-final"
  }
 },
 "nbformat": 4,
 "nbformat_minor": 4
}